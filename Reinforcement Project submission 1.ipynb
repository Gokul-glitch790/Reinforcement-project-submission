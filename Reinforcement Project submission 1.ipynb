{
 "cells": [
  {
   "cell_type": "code",
   "execution_count": 4,
   "id": "52c8ddc2-4cad-4602-93a0-b15bd2b7c5a5",
   "metadata": {},
   "outputs": [],
   "source": [
    "#simulation trial 43: (FINAL SIMULATION) = MARK43 = SATISFIED THE REQUIREMENT"
   ]
  },
  {
   "cell_type": "code",
   "execution_count": 1,
   "id": "89c9f3bc-cd99-4116-b2bc-12c457ff5b62",
   "metadata": {},
   "outputs": [
    {
     "name": "stdin",
     "output_type": "stream",
     "text": [
      "Enter the number of castings to produce:  6000\n"
     ]
    },
    {
     "name": "stdout",
     "output_type": "stream",
     "text": [
      "Produced 6000 castings. Total produced: 6000\n"
     ]
    },
    {
     "name": "stdin",
     "output_type": "stream",
     "text": [
      "Enter the number of castings to move to machining:  5800\n"
     ]
    },
    {
     "name": "stdout",
     "output_type": "stream",
     "text": [
      "Moved 5800 castings to machining.\n"
     ]
    },
    {
     "name": "stdin",
     "output_type": "stream",
     "text": [
      "Enter the number of castings for quality inspection:  5780\n"
     ]
    },
    {
     "name": "stdout",
     "output_type": "stream",
     "text": [
      "Moved 5780 castings to quality inspection.\n"
     ]
    },
    {
     "name": "stdin",
     "output_type": "stream",
     "text": [
      "Enter the number of castings accepted after inspection:  5730\n",
      "Enter the number of castings on hold after inspection:  50\n"
     ]
    },
    {
     "name": "stdout",
     "output_type": "stream",
     "text": [
      "Accepted 5730 castings and put 50 castings on hold.\n"
     ]
    },
    {
     "name": "stdin",
     "output_type": "stream",
     "text": [
      "Enter the number of castings accepted from hold (max 50):  38\n",
      "Enter the number of castings rejected from hold (max 12):  12\n"
     ]
    },
    {
     "name": "stdout",
     "output_type": "stream",
     "text": [
      "Accepted 38 castings and sent 12 castings to disposal.\n",
      "\n",
      "Current Stock Levels:\n",
      "Produced: 6000\n",
      "Rough_storage: 200\n",
      "Machined: 20\n",
      "Quality_inspection: 5780\n",
      "Packed: 5768\n",
      "On_hold: 0\n",
      "Disposed: 12\n",
      "\n",
      "Total Cost: 9000600 Rupees\n",
      "Total Revenue from Packed: 9390304 Rupees\n",
      "Profit: 389704 Rupees\n"
     ]
    }
   ],
   "source": [
    "class CastingProductionSystem:  # Define the main class for the casting production system\n",
    "    def __init__(self):  # Constructor which initializes the class\n",
    "        # Initialize stock levels for each stage of the production process\n",
    "        self.stock = {\n",
    "            'produced': 0,          # Count of castings produced\n",
    "            'rough_storage': 0,     # Count of castings in rough storage\n",
    "            'machined': 0,          # Count of castings that have been machined\n",
    "            'quality_inspection': 0, # Count of castings in quality inspection\n",
    "            'packed': 0,            # Count of castings that have been packed\n",
    "            'on_hold': 0,           # Count of castings that are on hold\n",
    "            'disposed': 0           # Count of castings disposed or sent to melting\n",
    "        }\n",
    "        self.cost_per_component = 1500  # Cost to produce one component\n",
    "        self.cost_disposal = 50          # Cost for disposing a component\n",
    "        self.selling_price = 1628        # Selling price for one component\n",
    "        self.total_cost = 0              # Total cost incurred\n",
    "        self.total_revenue = 0           # Total revenue from dispatched components\n",
    "\n",
    "    def produce_castings(self):  # Define method to produce castings\n",
    "        while True:\n",
    "            try:\n",
    "                quantity = int(input(\"Enter the number of castings to produce: \"))  # Prompt user for input\n",
    "                if quantity < 0:  # Check for negative input\n",
    "                    raise ValueError(\"Quantity cannot be negative.\")\n",
    "                self.stock['produced'] += quantity  # Increase total produced count by quantity\n",
    "                self.stock['rough_storage'] += quantity  # Increase count in rough storage by quantity\n",
    "                self.total_cost += quantity * self.cost_per_component  # Update total cost with production cost\n",
    "                print(f\"Produced {quantity} castings. Total produced: {self.stock['produced']}\")  # Output production status\n",
    "                break  # Exit loop if input is valid\n",
    "            except ValueError as e:\n",
    "                print(f\"Invalid input for production: {e}\")  # Output error message\n",
    "\n",
    "    def move_to_machining(self):  # Define method to move castings to machining\n",
    "        while True:\n",
    "            try:\n",
    "                quantity = int(input(\"Enter the number of castings to move to machining: \"))  # Prompt user for input\n",
    "                if quantity < 0:  # Check for negative input\n",
    "                    raise ValueError(\"Quantity cannot be negative.\")\n",
    "                if quantity <= self.stock['rough_storage']:  # Check if there are enough rough castings\n",
    "                    self.stock['rough_storage'] -= quantity  # Decrease rough storage count by quantity\n",
    "                    self.stock['machined'] += quantity  # Increase the count of machined castings by quantity\n",
    "                    print(f\"Moved {quantity} castings to machining.\")  # Output status of movement\n",
    "                    break  # Exit loop if input is valid\n",
    "                else:\n",
    "                    print(\"Not enough rough castings in storage.\")  # Handle insufficient stock case\n",
    "            except ValueError as e:\n",
    "                print(f\"Invalid input for machining: {e}\")  # Output error message\n",
    "\n",
    "    def quality_inspection(self):  # Define method for quality inspection\n",
    "        while True:\n",
    "            try:\n",
    "                quantity = int(input(\"Enter the number of castings for quality inspection: \"))  # Prompt user for input\n",
    "                if quantity < 0:  # Check for negative input\n",
    "                    raise ValueError(\"Quantity cannot be negative.\")\n",
    "                if quantity <= self.stock['machined']:  # Check if there are enough machined castings\n",
    "                    self.stock['machined'] -= quantity  # Decrease count of machined castings by quantity\n",
    "                    self.stock['quality_inspection'] += quantity  # Increase the count in quality inspection by quantity\n",
    "                    print(f\"Moved {quantity} castings to quality inspection.\")  # Output status of inspection\n",
    "                    \n",
    "                    while True:\n",
    "                        accepted_quantity = int(input(\"Enter the number of castings accepted after inspection: \"))  # Prompt for accepted quantity\n",
    "                        hold_quantity = int(input(\"Enter the number of castings on hold after inspection: \"))  # Prompt for on-hold quantity\n",
    "                        \n",
    "                        if accepted_quantity + hold_quantity <= quantity:  # Check if totals match\n",
    "                            self.stock['packed'] += accepted_quantity  # Increase packed count by accepted quantity\n",
    "                            self.stock['on_hold'] += hold_quantity  # Increase on-hold count by hold quantity\n",
    "                            print(f\"Accepted {accepted_quantity} castings and put {hold_quantity} castings on hold.\")  # Output status\n",
    "                            break  # Exit loop if input is valid\n",
    "                        else:\n",
    "                            print(\"Error: Accepted and on-hold quantities exceed the inspected quantity.\")  # Handle error case\n",
    "                    break  # Exit loop if inspection quantity is valid\n",
    "                else:\n",
    "                    print(\"Not enough machined castings to inspect.\")  # Handle insufficient stock case\n",
    "            except ValueError as e:\n",
    "                print(f\"Invalid input for quality inspection: {e}\")  # Output error message\n",
    "\n",
    "    def handle_on_hold_parts(self):  # Define method to handle on-hold parts\n",
    "        while self.stock['on_hold'] > 0:  # Continue until there are no more on-hold parts\n",
    "            while True:\n",
    "                try:\n",
    "                    accepted_quantity = int(input(f\"Enter the number of castings accepted from hold (max {self.stock['on_hold']}): \"))  # Prompt for accepted quantity\n",
    "                    rejected_quantity = int(input(f\"Enter the number of castings rejected from hold (max {self.stock['on_hold'] - accepted_quantity}): \"))  # Prompt for rejected quantity\n",
    "                    \n",
    "                    if accepted_quantity < 0 or rejected_quantity < 0:  # Check for negative input\n",
    "                        raise ValueError(\"Quantities cannot be negative.\")\n",
    "                    if accepted_quantity + rejected_quantity <= self.stock['on_hold']:  # Check if totals match\n",
    "                        self.stock['packed'] += accepted_quantity  # Move accepted parts to packing\n",
    "                        self.stock['disposed'] += rejected_quantity  # Move rejected parts to disposal\n",
    "                        self.total_cost += rejected_quantity * self.cost_disposal  # Update total cost for disposal\n",
    "                        print(f\"Accepted {accepted_quantity} castings and sent {rejected_quantity} castings to disposal.\")  # Output status\n",
    "                        self.stock['on_hold'] -= (accepted_quantity + rejected_quantity)  # Decrease remaining quantity of on-hold parts\n",
    "                        break  # Exit loop if input is valid\n",
    "                    else:\n",
    "                        print(\"Error: Accepted and rejected quantities exceed the on-hold quantity.\")  # Handle error case\n",
    "                except ValueError as e:\n",
    "                    print(f\"Invalid input for handling on-hold parts: {e}\")  # Output error message\n",
    "\n",
    "    def calculate_profit_or_loss(self):  # Define method to calculate profit or loss\n",
    "        total_costs = (self.stock['produced'] * self.cost_per_component) + (self.stock['disposed'] * self.cost_disposal)  # Total production and disposal cost\n",
    "        total_revenue = self.stock['packed'] * self.selling_price  # Total revenue from sold components\n",
    "        \n",
    "        profit_or_loss = total_revenue - total_costs  # Calculate profit or loss\n",
    "        return profit_or_loss  # Return the profit or loss value\n",
    "\n",
    "    def run_simulation(self):  # Define method to run the simulation\n",
    "        self.produce_castings()  # Step 1: Produce castings\n",
    "        self.move_to_machining()  # Step 2: Move to machining\n",
    "        self.quality_inspection()  # Step 3: Perform quality inspection\n",
    "        self.handle_on_hold_parts()  # Step 4: Handle any on-hold parts\n",
    "        self.report_status()  # Step 5: Report the current stock status\n",
    "        profit_or_loss = self.calculate_profit_or_loss()  # Calculate profit or loss\n",
    "        if profit_or_loss >= 0:  # Check if there is a profit\n",
    "            print(f\"Profit: {profit_or_loss} Rupees\")  # Output profit\n",
    "        else:\n",
    "            print(f\"Loss: {-profit_or_loss} Rupees\")  # Output loss\n",
    "\n",
    "    def report_status(self):  # Define method to report the current stock levels\n",
    "        # Display the current stock levels at each stage of the process\n",
    "        print(\"\\nCurrent Stock Levels:\")  # Print header for stock report\n",
    "        for stage, qty in self.stock.items():  # Loop through each stock stage\n",
    "            print(f\"{stage.capitalize()}: {qty}\")  # Print the stock level for each stage\n",
    "        print(f\"\\nTotal Cost: {self.total_cost} Rupees\")  # Print total cost incurred\n",
    "        print(f\"Total Revenue from Packed: {self.stock['packed'] * self.selling_price} Rupees\")  # Print total revenue\n",
    "\n",
    "if __name__ == \"__main__\":  # Check if the script is being run directly\n",
    "    system = CastingProductionSystem()  # Create an instance of the production system\n",
    "    system.run_simulation()  # Run the simulation\n"
   ]
  },
  {
   "cell_type": "code",
   "execution_count": null,
   "id": "afb42707-21ad-4b73-bd0c-91458db695c6",
   "metadata": {},
   "outputs": [],
   "source": []
  }
 ],
 "metadata": {
  "kernelspec": {
   "display_name": "Python 3 (ipykernel)",
   "language": "python",
   "name": "python3"
  },
  "language_info": {
   "codemirror_mode": {
    "name": "ipython",
    "version": 3
   },
   "file_extension": ".py",
   "mimetype": "text/x-python",
   "name": "python",
   "nbconvert_exporter": "python",
   "pygments_lexer": "ipython3",
   "version": "3.12.4"
  }
 },
 "nbformat": 4,
 "nbformat_minor": 5
}
